{
 "cells": [
  {
   "cell_type": "markdown",
   "metadata": {},
   "source": [
    "# Introduction\n",
    "\n",
    "This package is a tool to improve the comparison between two or more documents, using cosine similarity of tokens idf or tf-idf, when you have token with slightly similar idf's that are messing up with your similarity engine."
   ]
  },
  {
   "cell_type": "code",
   "execution_count": 22,
   "metadata": {
    "collapsed": false
   },
   "outputs": [
    {
     "data": {
      "text/latex": [
       "\n",
       "\\begin{equation}\n",
       "    f(x) = \\frac{1}{1 + \\exp-(\\alpha x - \\beta)}\n",
       "\\end{equation}\n",
       "\n",
       "So, we have the following boundary conditions:\n",
       "\\begin{equation}\n",
       "    f(x) = \n",
       "    \\begin{cases}\n",
       "        0, x = t \\times v_{max}\\\\\n",
       "        1, x = (1-t) \\times v_{max}\n",
       "    \\end{cases}\n",
       "\\end{equation}\n",
       "where $t$ is a value between $0$ and $1$.\n",
       "\n",
       "And we have the relation:\n",
       "\n",
       "\\begin{equation}\n",
       "    \\alpha = \\frac{2\\log(1000)}{{1-2t}v_{max}}\n",
       "\\end{equation}\n",
       "\n",
       "\\begin{equation}\n",
       "    \\beta = \\log(1000) \\times \\left[ 1 + \\frac{1}{1 - 2t} \\right]\n",
       "\\end{equation}"
      ],
      "text/plain": [
       "<IPython.core.display.Latex object>"
      ]
     },
     "metadata": {},
     "output_type": "display_data"
    }
   ],
   "source": [
    "%%latex\n",
    "\n",
    "\\begin{equation}\n",
    "    f(x) = \\frac{1}{1 + \\exp-(\\alpha x - \\beta)}\n",
    "\\end{equation}\n",
    "\n",
    "So, we have the following boundary conditions:\n",
    "\\begin{equation}\n",
    "    f(x) = \n",
    "    \\begin{cases}\n",
    "        0, x = t \\times v_{max}\\\\\n",
    "        1, x = (1-t) \\times v_{max}\n",
    "    \\end{cases}\n",
    "\\end{equation}\n",
    "where $t$ is a value between $0$ and $1$.\n",
    "\n",
    "And we have the relation:\n",
    "\n",
    "\\begin{equation}\n",
    "    \\alpha = \\frac{2\\log(1000)}{{1-2t}v_{max}}\n",
    "\\end{equation}\n",
    "\n",
    "\\begin{equation}\n",
    "    \\beta = \\log(1000) \\times \\left[ 1 + \\frac{1}{1 - 2t} \\right]\n",
    "\\end{equation}"
   ]
  },
  {
   "cell_type": "code",
   "execution_count": 19,
   "metadata": {
    "collapsed": false
   },
   "outputs": [
    {
     "name": "stdout",
     "output_type": "stream",
     "text": [
      "6.90775527898\n",
      "-6.90775527898\n"
     ]
    }
   ],
   "source": [
    "from math import log\n",
    "print log(1000)\n",
    "print log(0.001)"
   ]
  }
 ],
 "metadata": {
  "kernelspec": {
   "display_name": "Python 2",
   "language": "python",
   "name": "python2"
  },
  "language_info": {
   "codemirror_mode": {
    "name": "ipython",
    "version": 2
   },
   "file_extension": ".py",
   "mimetype": "text/x-python",
   "name": "python",
   "nbconvert_exporter": "python",
   "pygments_lexer": "ipython2",
   "version": "2.7.9"
  }
 },
 "nbformat": 4,
 "nbformat_minor": 0
}
